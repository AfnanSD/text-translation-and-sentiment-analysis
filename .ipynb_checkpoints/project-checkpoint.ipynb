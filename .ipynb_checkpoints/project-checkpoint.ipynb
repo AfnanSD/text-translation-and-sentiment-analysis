{
 "cells": [
  {
   "cell_type": "markdown",
   "metadata": {},
   "source": [
    "# Text Translation and Sentiment Analysis using Transformers"
   ]
  },
  {
   "cell_type": "markdown",
   "metadata": {},
   "source": [
    "## Project Overview:\n",
    "\n",
    "The objective of this project is to analyze the sentiment of movie reviews in three different languages - English, French, and Spanish. We have been given 30 movies, 10 in each language, along with their reviews and synopses in separate CSV files named `movie_reviews_eng.csv`, `movie_reviews_fr.csv`, and `movie_reviews_sp.csv`.\n",
    "\n",
    "- The first step of this project is to convert the French and Spanish reviews and synopses into English. This will allow us to analyze the sentiment of all reviews in the same language. We will be using pre-trained transformers from HuggingFace to achieve this task.\n",
    "\n",
    "- Once the translations are complete, we will create a single dataframe that contains all the movies along with their reviews, synopses, and year of release in all three languages. This dataframe will be used to perform sentiment analysis on the reviews of each movie.\n",
    "\n",
    "- Finally, we will use pretrained transformers from HuggingFace to analyze the sentiment of each review. The sentiment analysis results will be added to the dataframe. The final dataframe will have 30 rows\n",
    "\n",
    "\n",
    "The output of the project will be a CSV file with a header row that includes column names such as **Title**, **Year**, **Synopsis**, **Review**, **Review Sentiment**, and **Original Language**. The **Original Language** column will indicate the language of the review and synopsis (*en/fr/sp*) before translation. The dataframe will consist of 30 rows, with each row corresponding to a movie."
   ]
  },
  {
   "cell_type": "code",
   "execution_count": 2,
   "metadata": {},
   "outputs": [
    {
     "name": "stderr",
     "output_type": "stream",
     "text": [
      "/opt/venv/lib/python3.10/site-packages/tqdm/auto.py:21: TqdmWarning: IProgress not found. Please update jupyter and ipywidgets. See https://ipywidgets.readthedocs.io/en/stable/user_install.html\n",
      "  from .autonotebook import tqdm as notebook_tqdm\n"
     ]
    }
   ],
   "source": [
    "# imports\n",
    "import pandas as pd\n",
    "from transformers import MarianMTModel, MarianTokenizer\n",
    "from transformers import pipeline"
   ]
  },
  {
   "cell_type": "markdown",
   "metadata": {},
   "source": [
    "### Get data from `.csv` files and then preprocess data"
   ]
  },
  {
   "cell_type": "code",
   "execution_count": 7,
   "metadata": {},
   "outputs": [],
   "source": [
    "# use the `pd.read_csv()` function to read the movie_review_*.csv files into 3 separate pandas dataframes\n",
    "\n",
    "# Note: All the dataframes would have different column names. For testing purposes\n",
    "# you should have the following column names/headers -> [Title, Year, Synopsis, Review]\n",
    "\n",
    "def preprocess_data() -> pd.DataFrame:\n",
    "    \"\"\"\n",
    "    Reads movie data from .csv files, map column names, add the \"Original Language\" column,\n",
    "    and finally concatenate in one resultant dataframe called \"df\".\n",
    "    \"\"\"\n",
    "    # 1. read data from csv files\n",
    "    df_eng = pd.read_csv(\"data/movie_reviews_eng.csv\")\n",
    "    df_fr = pd.read_csv(\"data/movie_reviews_fr.csv\")\n",
    "    df_sp = pd.read_csv(\"data/movie_reviews_sp.csv\")\n",
    "    \n",
    "    # 2. rename columns names to be [Title, Year, Synopsis, Review]\n",
    "    df_eng.rename(mapper= {'Movie / TV Series': 'Title',\n",
    "                       'Year':'Year',\n",
    "                      'Synopsis':'Synopsis',\n",
    "                      'Review':'Review'},\n",
    "              axis=1, \n",
    "              inplace=True)\n",
    "    \n",
    "    df_fr.rename(mapper= {'Titre': 'Title',\n",
    "                       'Année':'Year',\n",
    "                      'Synopsis':'Synopsis',\n",
    "                      'Critiques':'Review'},\n",
    "              axis=1, \n",
    "              inplace=True)\n",
    "    \n",
    "    df_sp.rename(mapper= {'Título': 'Title',\n",
    "                       'Año':'Year',\n",
    "                      'Sinopsis':'Synopsis',\n",
    "                      'Críticas':'Review'},\n",
    "              axis=1, \n",
    "              inplace=True)\n",
    "    \n",
    "    # 3. add \"Original Language\" column\n",
    "    df_eng['Original Language'] = 'eng'\n",
    "    df_fr['Original Language'] = 'fr'\n",
    "    df_sp['Original Language'] = 'sp'\n",
    "    \n",
    "    # 4. combine dataframes into one\n",
    "    df = pd.concat([df_eng, df_fr, df_sp], ignore_index=True)\n",
    "    \n",
    "    # return dataframe\n",
    "    return df\n",
    "\n",
    "df = preprocess_data()"
   ]
  },
  {
   "cell_type": "code",
   "execution_count": 20,
   "metadata": {},
   "outputs": [
    {
     "data": {
      "text/html": [
       "<div>\n",
       "<style scoped>\n",
       "    .dataframe tbody tr th:only-of-type {\n",
       "        vertical-align: middle;\n",
       "    }\n",
       "\n",
       "    .dataframe tbody tr th {\n",
       "        vertical-align: top;\n",
       "    }\n",
       "\n",
       "    .dataframe thead th {\n",
       "        text-align: right;\n",
       "    }\n",
       "</style>\n",
       "<table border=\"1\" class=\"dataframe\">\n",
       "  <thead>\n",
       "    <tr style=\"text-align: right;\">\n",
       "      <th></th>\n",
       "      <th>Title</th>\n",
       "      <th>Year</th>\n",
       "      <th>Synopsis</th>\n",
       "      <th>Review</th>\n",
       "      <th>Original Language</th>\n",
       "    </tr>\n",
       "  </thead>\n",
       "  <tbody>\n",
       "    <tr>\n",
       "      <th>29</th>\n",
       "      <td>El Incidente</td>\n",
       "      <td>2014</td>\n",
       "      <td>En esta película de terror mexicana, un grupo ...</td>\n",
       "      <td>\"El Incidente es una película aburrida y sin s...</td>\n",
       "      <td>sp</td>\n",
       "    </tr>\n",
       "    <tr>\n",
       "      <th>15</th>\n",
       "      <td>Le Dîner de Cons</td>\n",
       "      <td>1998</td>\n",
       "      <td>Le film suit l'histoire d'un groupe d'amis ric...</td>\n",
       "      <td>\"Je n'ai pas aimé ce film du tout. Le concept ...</td>\n",
       "      <td>fr</td>\n",
       "    </tr>\n",
       "    <tr>\n",
       "      <th>11</th>\n",
       "      <td>Intouchables</td>\n",
       "      <td>2011</td>\n",
       "      <td>Ce film raconte l'histoire de l'amitié improba...</td>\n",
       "      <td>\"Intouchables est un film incroyablement touch...</td>\n",
       "      <td>fr</td>\n",
       "    </tr>\n",
       "    <tr>\n",
       "      <th>14</th>\n",
       "      <td>Le Fabuleux Destin d'Amélie Poulain</td>\n",
       "      <td>2001</td>\n",
       "      <td>Cette comédie romantique raconte l'histoire d'...</td>\n",
       "      <td>\"Le Fabuleux Destin d'Amélie Poulain est un fi...</td>\n",
       "      <td>fr</td>\n",
       "    </tr>\n",
       "    <tr>\n",
       "      <th>19</th>\n",
       "      <td>Babylon A.D.</td>\n",
       "      <td>2008</td>\n",
       "      <td>Dans un futur lointain, un mercenaire doit esc...</td>\n",
       "      <td>\"Ce film est un gâchis complet. Les personnage...</td>\n",
       "      <td>fr</td>\n",
       "    </tr>\n",
       "    <tr>\n",
       "      <th>6</th>\n",
       "      <td>Scott Pilgrim vs. the World</td>\n",
       "      <td>2010</td>\n",
       "      <td>Scott Pilgrim (Michael Cera) must defeat his n...</td>\n",
       "      <td>\"It was difficult to sit through the whole thi...</td>\n",
       "      <td>eng</td>\n",
       "    </tr>\n",
       "    <tr>\n",
       "      <th>8</th>\n",
       "      <td>Solo: A Star Wars Story</td>\n",
       "      <td>2018</td>\n",
       "      <td>A young Han Solo (Alden Ehrenreich) joins a gr...</td>\n",
       "      <td>\"Dull and pointless, with none of the magic of...</td>\n",
       "      <td>eng</td>\n",
       "    </tr>\n",
       "    <tr>\n",
       "      <th>4</th>\n",
       "      <td>Inception</td>\n",
       "      <td>2010</td>\n",
       "      <td>Dom Cobb (Leonardo DiCaprio) is a skilled thie...</td>\n",
       "      <td>\"Inception is a mind-bending and visually stun...</td>\n",
       "      <td>eng</td>\n",
       "    </tr>\n",
       "    <tr>\n",
       "      <th>22</th>\n",
       "      <td>Y tu mamá también</td>\n",
       "      <td>2001</td>\n",
       "      <td>Dos amigos adolescentes (Gael García Bernal y ...</td>\n",
       "      <td>\"Y tu mamá también es una película que se qued...</td>\n",
       "      <td>sp</td>\n",
       "    </tr>\n",
       "    <tr>\n",
       "      <th>9</th>\n",
       "      <td>The Island</td>\n",
       "      <td>2005</td>\n",
       "      <td>In a future where people are cloned for organ ...</td>\n",
       "      <td>\"The Island is a bland and forgettable sci-fi ...</td>\n",
       "      <td>eng</td>\n",
       "    </tr>\n",
       "  </tbody>\n",
       "</table>\n",
       "</div>"
      ],
      "text/plain": [
       "                                  Title  Year  \\\n",
       "29                         El Incidente  2014   \n",
       "15                     Le Dîner de Cons  1998   \n",
       "11                         Intouchables  2011   \n",
       "14  Le Fabuleux Destin d'Amélie Poulain  2001   \n",
       "19                         Babylon A.D.  2008   \n",
       "6           Scott Pilgrim vs. the World  2010   \n",
       "8               Solo: A Star Wars Story  2018   \n",
       "4                             Inception  2010   \n",
       "22                    Y tu mamá también  2001   \n",
       "9                            The Island  2005   \n",
       "\n",
       "                                             Synopsis  \\\n",
       "29  En esta película de terror mexicana, un grupo ...   \n",
       "15  Le film suit l'histoire d'un groupe d'amis ric...   \n",
       "11  Ce film raconte l'histoire de l'amitié improba...   \n",
       "14  Cette comédie romantique raconte l'histoire d'...   \n",
       "19  Dans un futur lointain, un mercenaire doit esc...   \n",
       "6   Scott Pilgrim (Michael Cera) must defeat his n...   \n",
       "8   A young Han Solo (Alden Ehrenreich) joins a gr...   \n",
       "4   Dom Cobb (Leonardo DiCaprio) is a skilled thie...   \n",
       "22  Dos amigos adolescentes (Gael García Bernal y ...   \n",
       "9   In a future where people are cloned for organ ...   \n",
       "\n",
       "                                               Review Original Language  \n",
       "29  \"El Incidente es una película aburrida y sin s...                sp  \n",
       "15  \"Je n'ai pas aimé ce film du tout. Le concept ...                fr  \n",
       "11  \"Intouchables est un film incroyablement touch...                fr  \n",
       "14  \"Le Fabuleux Destin d'Amélie Poulain est un fi...                fr  \n",
       "19  \"Ce film est un gâchis complet. Les personnage...                fr  \n",
       "6   \"It was difficult to sit through the whole thi...               eng  \n",
       "8   \"Dull and pointless, with none of the magic of...               eng  \n",
       "4   \"Inception is a mind-bending and visually stun...               eng  \n",
       "22  \"Y tu mamá también es una película que se qued...                sp  \n",
       "9   \"The Island is a bland and forgettable sci-fi ...               eng  "
      ]
     },
     "execution_count": 20,
     "metadata": {},
     "output_type": "execute_result"
    }
   ],
   "source": [
    "df.sample(10)"
   ]
  },
  {
   "cell_type": "markdown",
   "metadata": {},
   "source": [
    "### Text translation\n",
    "\n",
    "Translate the **Review** and **Synopsis** column values to English."
   ]
  },
  {
   "cell_type": "code",
   "execution_count": 21,
   "metadata": {},
   "outputs": [
    {
     "name": "stderr",
     "output_type": "stream",
     "text": [
      "Downloading config.json: 1.42kB [00:00, 3.72MB/s]\n",
      "Downloading pytorch_model.bin: 100%|██████████| 301M/301M [00:01<00:00, 152MB/s]  \n",
      "Downloading generation_config.json: 100%|██████████| 293/293 [00:00<00:00, 1.72MB/s]\n",
      "Downloading config.json: 1.44kB [00:00, 2.49MB/s]\n",
      "Downloading pytorch_model.bin: 100%|██████████| 312M/312M [00:01<00:00, 204MB/s] \n",
      "Downloading generation_config.json: 100%|██████████| 293/293 [00:00<00:00, 1.35MB/s]\n",
      "Downloading source.spm: 100%|██████████| 802k/802k [00:00<00:00, 10.3MB/s]\n",
      "Downloading target.spm: 100%|██████████| 778k/778k [00:00<00:00, 79.6MB/s]\n",
      "Downloading vocab.json: 1.34MB [00:00, 148MB/s]\n",
      "Downloading tokenizer_config.json: 100%|██████████| 42.0/42.0 [00:00<00:00, 243kB/s]\n",
      "/opt/venv/lib/python3.10/site-packages/transformers/models/marian/tokenization_marian.py:194: UserWarning: Recommended: pip install sacremoses.\n",
      "  warnings.warn(\"Recommended: pip install sacremoses.\")\n",
      "Downloading source.spm: 100%|██████████| 826k/826k [00:00<00:00, 142MB/s]\n",
      "Downloading target.spm: 100%|██████████| 802k/802k [00:00<00:00, 216MB/s]\n",
      "Downloading vocab.json: 1.59MB [00:00, 155MB/s]\n",
      "Downloading tokenizer_config.json: 100%|██████████| 44.0/44.0 [00:00<00:00, 175kB/s]\n"
     ]
    }
   ],
   "source": [
    "# load translation models and tokenizers\n",
    "fr_en_model_name = \"Helsinki-NLP/opus-mt-fr-en\"\n",
    "es_en_model_name = \"Helsinki-NLP/opus-mt-es-en\"\n",
    "fr_en_model = MarianMTModel.from_pretrained(fr_en_model_name)\n",
    "es_en_model = MarianMTModel.from_pretrained(es_en_model_name)\n",
    "fr_en_tokenizer = MarianTokenizer.from_pretrained(fr_en_model_name)\n",
    "es_en_tokenizer = MarianTokenizer.from_pretrained(es_en_model_name)\n",
    "\n",
    "def translate(text: str, model, tokenizer) -> str:\n",
    "    \"\"\"\n",
    "    function to translate a text using a model and tokenizer\n",
    "    \"\"\"\n",
    "    # encode the text using the tokenizer\n",
    "    inputs = tokenizer([text], return_tensors=\"pt\")\n",
    "\n",
    "    # generate the translation using the model\n",
    "    outputs = model.generate(**inputs)\n",
    "\n",
    "    # decode the generated output and return the translated text\n",
    "    decoded = tokenizer.batch_decode(outputs, skip_special_tokens=True)[0]\n",
    "    return decoded"
   ]
  },
  {
   "cell_type": "code",
   "execution_count": 22,
   "metadata": {},
   "outputs": [
    {
     "name": "stderr",
     "output_type": "stream",
     "text": [
      "/opt/venv/lib/python3.10/site-packages/transformers/generation/utils.py:1288: UserWarning: Using `max_length`'s default (512) to control the generation length. This behaviour is deprecated and will be removed from the config in v5 of Transformers -- we recommend using `max_new_tokens` to control the maximum length of the generation.\n",
      "  warnings.warn(\n"
     ]
    },
    {
     "data": {
      "text/plain": [
       "\"Where's the bus stop?\""
      ]
     },
     "execution_count": 22,
     "metadata": {},
     "output_type": "execute_result"
    }
   ],
   "source": [
    "# test\n",
    "translate(\"où est l'arrêt de bus ?\", fr_en_model, fr_en_tokenizer)"
   ]
  },
  {
   "cell_type": "code",
   "execution_count": 23,
   "metadata": {},
   "outputs": [
    {
     "data": {
      "text/plain": [
       "['\"The Land is an absolutely beautiful film with songs that stay in the head for days. The actors are incredible and their alchemy is palpable. The dance scenes are absolutely dazzling and the story is touching and authentic.\"',\n",
       " '\"Untouchables is an incredibly touching film with incredible actors and an inspiring story. The jokes are smart and never offensive, and the emotion is perfectly dosed. It is a film that will make you laugh and cry, and that will remind you of the importance of friendship and compassion.\"',\n",
       " '\"Amélie is an absolutely charming film that will make you smile from beginning to end. The aesthetics of the film is beautiful and imaginative, and the music is enchanting. Audrey Tautou is incredibly charismatic in the title role, and the story is full of touching moments and unforgettable characters.\"',\n",
       " '\"The Choristes are a beautiful film that will make you laugh and cry. The music is absolutely moving and the performances are incredible, especially that of young actors. History is touching and universal, and it shows the importance of art and education to transform lives.\"',\n",
       " '\"The Fabulous Destiny of Amélie Poulain is an absolutely charming film that will make you smile from beginning to end. The aesthetics of the film is magnificent and imaginative, and the music is enchanting. Audrey Tautou is incredibly charismatic in the title role, and the story is full of touching moments and unforgettable characters.\"',\n",
       " '\"I didn\\'t like this movie at all. The concept of laughing people who are considered idiots is offensive and the film didn\\'t make me laugh. The characters are all unpleasant and the story is boring.\"',\n",
       " '\"I can\\'t believe I\\'ve wasted time watching this nonsense. The film is full of stupid jokes and scenes that are simply useless. The characters are irritating and the story is ridiculous. Avoid this movie at any cost.\"',\n",
       " '\"This film is a complete disappointment. The jokes are of no interest and the actors seem not to know what to do with their characters. The special effects are bad and the story is flat and predictable. I recommend not to waste your time watching this film.\"',\n",
       " '\"The film is a total waste of time. The jokes are repetitive and boring, the characters are caricatural and irritating, and the story is stupid and inconsistent. I do not recommend this film to anyone.\"',\n",
       " '\"This film is a complete mess. The characters are of no interest, the plot is confused and the special effects are bad. The film tries to be smart and cool, but fails lamentably. Avoid this film at all costs.\"']"
      ]
     },
     "execution_count": 23,
     "metadata": {},
     "output_type": "execute_result"
    }
   ],
   "source": [
    "# filter reviews in French and translate to English\n",
    "fr_reviews = df.loc[df['Original Language'] == 'fr', 'Review']\n",
    "\n",
    "fr_reviews_en = []\n",
    "for reivew in fr_reviews:\n",
    "    fr_reviews_en.append(translate(reivew, fr_en_model, fr_en_tokenizer))\n",
    "\n",
    "fr_reviews_en  "
   ]
  },
  {
   "cell_type": "code",
   "execution_count": 24,
   "metadata": {},
   "outputs": [
    {
     "data": {
      "text/plain": [
       "['This musical tells the story of a budding actress and jazz pianist who fall in love in Los Angeles. The film was hailed for its enchanting music, dazzling dance scenes and exceptional performances.',\n",
       " 'This film tells the story of the unlikely friendship between a tetraplegic man and his home helper, a young man from the suburbs. The film was hailed for his intelligent humour, his moving performances and his universal message of friendship and understanding.',\n",
       " 'This romantic comedy tells the story of Amélie, a shy and dreamy young woman who decides to change the lives of people around her. The film was hailed for her colorful and imaginative aesthetic, her enchanting original tape and the charismatic performance of Audrey Tautou.',\n",
       " 'This film tells the story of a music teacher who tries to change the lives of the difficult students of a boarding school for children in difficulty. The film was hailed for his moving music, his dazzling performances and his ability to reach the heart of the audience.',\n",
       " 'This romantic comedy tells the story of Amélie, a shy young woman who decides to change the lives of people around her. The film was hailed for her colorful and imaginative aesthetics, her enchanting soundtrack and the charismatic performance of Audrey Tautou.',\n",
       " 'The film follows the story of a group of rich friends who organize a weekly dinner where everyone has to bring a \"idiot\" to make fun of him. When one of the guests meets a guest who could be the greatest \"idiot\" of all, things don\\'t go as planned.',\n",
       " 'Two incompetent office workers find themselves trapped in the elevator of the Montparnasse Tower, which is being sabotaged, and they must save the building and its occupants before it is too late.',\n",
       " 'In this film adaptation of the popular comic strip, Asterix and Obelix participate in the Olympic Games to help their loving friend win.',\n",
       " 'In this continuation of the French comedy The Visitors, the characters travel through time to modern America.',\n",
       " 'In the distant future, a mercenary has to escort a woman from Russia to New York, but when she discovers that the woman is pregnant with a very special child, he finds himself trained in a deadly conspiracy.']"
      ]
     },
     "execution_count": 24,
     "metadata": {},
     "output_type": "execute_result"
    }
   ],
   "source": [
    "# filter synopsis in French and translate to English\n",
    "fr_synopsis = df.loc[df['Original Language'] == 'fr', 'Synopsis']\n",
    "\n",
    "fr_synopsis_en = []\n",
    "for synopsis in fr_synopsis:\n",
    "    fr_synopsis_en.append(translate(synopsis, fr_en_model, fr_en_tokenizer))\n",
    "\n",
    "fr_synopsis_en"
   ]
  },
  {
   "cell_type": "code",
   "execution_count": 25,
   "metadata": {},
   "outputs": [
    {
     "data": {
      "text/plain": [
       "['\"Rome is a beautiful and moving film that pays tribute to the lives of domestic workers in Mexico. Cinematography is impressive and Yalitza Aparicio\\'s performance is exceptional.\"',\n",
       " '\"The Paper House is an exciting and addictive series that will keep you on edge from start to finish. The characters are complex and well developed, and the plot is smart and surprising.\"',\n",
       " '\"And your mom is also a movie that stays with you long after it ends. Alfonso Cuarón\\'s direction is masterful, and the performance of the three protagonists is excellent.\"',\n",
       " '\"The Labyrinth of Fauno is a fascinating and emotional film that combines the reality of the Spanish postwar period with elements of fantasy. Guillermo del Toro\\'s direction is impressive, and Ivana Baquero\\'s performance is moving.\"',\n",
       " '\"Amores dogs is an intense and moving film that will keep you glued to the screen. Alejandro González Iñárritu\\'s direction is masterful, and the actors\\' performance is impressive.\"',\n",
       " '\"Red Eagle is a boring and uninteresting series that fails to capture the historical era in which it unfolds. The performance is mediocre and the plot is predictable and unexciting.\"',\n",
       " '\"Toc Toc is a boring and unoriginal film that abuses the same jokes over and over again. Characters are stereotyped and the plot is predictable and meaningless.\"',\n",
       " '\"The Bar is a ridiculous and meaningless film that fails to create an atmosphere of tension or suspense. The performance is mediocre and the plot is absurd and unlikely.\"',\n",
       " '\"Torrente is a vulgar and offensive film that abuses stereotypes and easy jokes. Acting is poor and the plot is inconsistent and inconsistent.\"',\n",
       " '\"The Incident is a boring and frightless film that fails to create an atmosphere of fear or tension. Acting is mediocre and the plot is predictable and unexciting.\"']"
      ]
     },
     "execution_count": 25,
     "metadata": {},
     "output_type": "execute_result"
    }
   ],
   "source": [
    "# filter reviews in Spanish and translate to English\n",
    "es_reviews = df.loc[df['Original Language'] == 'sp', 'Review']\n",
    "\n",
    "es_reviews_en = []\n",
    "for reivew in es_reviews:\n",
    "    es_reviews_en.append(translate(reivew, es_en_model, es_en_tokenizer))\n",
    "\n",
    "es_reviews_en"
   ]
  },
  {
   "cell_type": "code",
   "execution_count": 26,
   "metadata": {},
   "outputs": [
    {
     "data": {
      "text/plain": [
       "['Cleo (Yalitza Aparicio) is a young domestic worker who works for a middle-class family in Mexico City during the 1970s. The film follows her daily life and relationships with her family and her community.',\n",
       " 'This Spanish television series follows a group of thieves planning an ambitious robbery at the National Currency and Timbre Factory. The series became an international success and was broadcast worldwide via Netflix.',\n",
       " 'Two teenage friends (Gael García Bernal and Diego Luna) embark on a road trip with an older woman (Maribel Verdú) they have just met. The film addresses issues such as friendship, sexuality and mortality.',\n",
       " 'During the Spanish postwar period, Ofelia (Ivana Baquero) moves to a rural area with her mother and stepfather, a captain of the Francoist army. There, she discovers a fantastic world populated by magical creatures.',\n",
       " 'Three stories intertwine in this Mexican film: a man who engages in dog fights, a model who suffers a car accident and a woman who abandons her husband. The film explores themes such as love, betrayal and violence.',\n",
       " 'This Spanish television series follows the adventures of a vigilante masked in the 17th century. The series was criticized for its lack of historical precision and predictable plot.',\n",
       " 'In this Spanish comedy, a group of people with obsessive-compulsive disorders are in the waiting room of a psychiatrist. The film was criticized for its repetitive jokes and lack of originality.',\n",
       " 'A group of people are trapped in a bar after Madrid suffers a blackout. The film was criticized for its lack of consistency and absurd plot.',\n",
       " 'In this Spanish comedy, a corrupt cop (played by Santiago Segura) tries to solve a murder case. The film was criticized for its offensive jokes and lack of grace.',\n",
       " 'In this Mexican horror film, a group of people get trapped in an elevator and begin to experience paranormal phenomena. The film was criticized for its lack of originality and predictable plot.']"
      ]
     },
     "execution_count": 26,
     "metadata": {},
     "output_type": "execute_result"
    }
   ],
   "source": [
    "# filter synopsis in Spanish and translate to English\n",
    "es_synopsis = df.loc[df['Original Language'] == 'sp', 'Synopsis']\n",
    "\n",
    "es_synopsis_en = []\n",
    "for synopsis in es_synopsis:\n",
    "    es_synopsis_en.append(translate(synopsis, es_en_model, es_en_tokenizer))\n",
    "\n",
    "es_synopsis_en"
   ]
  },
  {
   "cell_type": "code",
   "execution_count": 27,
   "metadata": {},
   "outputs": [
    {
     "data": {
      "text/plain": [
       "(10, 10, 10, 10, 10, 10, 10, 10)"
      ]
     },
     "execution_count": 27,
     "metadata": {},
     "output_type": "execute_result"
    }
   ],
   "source": [
    "len(fr_reviews), len(fr_reviews_en), len(fr_synopsis), len(fr_synopsis_en), len(es_reviews), len(es_reviews_en), len(es_synopsis), len(es_synopsis_en)"
   ]
  },
  {
   "cell_type": "code",
   "execution_count": 28,
   "metadata": {},
   "outputs": [],
   "source": [
    "# update dataframe with translated text\n",
    "# add the translated reviews and synopsis - you can overwrite the existing data\n",
    "\n",
    "# french\n",
    "condition = df['Original Language'] == 'fr'\n",
    "indices = df[condition].index[:]\n",
    "df.loc[indices, 'Review'] = fr_reviews_en\n",
    "df.loc[indices, 'Synopsis'] = fr_synopsis_en\n",
    "\n",
    "# spanish\n",
    "condition = df['Original Language'] == 'sp'\n",
    "indices = df[condition].index[:]\n",
    "df.loc[indices, 'Review'] = es_reviews_en\n",
    "df.loc[indices, 'Synopsis'] = es_synopsis_en"
   ]
  },
  {
   "cell_type": "code",
   "execution_count": 29,
   "metadata": {},
   "outputs": [
    {
     "data": {
      "text/html": [
       "<div>\n",
       "<style scoped>\n",
       "    .dataframe tbody tr th:only-of-type {\n",
       "        vertical-align: middle;\n",
       "    }\n",
       "\n",
       "    .dataframe tbody tr th {\n",
       "        vertical-align: top;\n",
       "    }\n",
       "\n",
       "    .dataframe thead th {\n",
       "        text-align: right;\n",
       "    }\n",
       "</style>\n",
       "<table border=\"1\" class=\"dataframe\">\n",
       "  <thead>\n",
       "    <tr style=\"text-align: right;\">\n",
       "      <th></th>\n",
       "      <th>Title</th>\n",
       "      <th>Year</th>\n",
       "      <th>Synopsis</th>\n",
       "      <th>Review</th>\n",
       "      <th>Original Language</th>\n",
       "    </tr>\n",
       "  </thead>\n",
       "  <tbody>\n",
       "    <tr>\n",
       "      <th>11</th>\n",
       "      <td>Intouchables</td>\n",
       "      <td>2011</td>\n",
       "      <td>This film tells the story of the unlikely frie...</td>\n",
       "      <td>\"Untouchables is an incredibly touching film w...</td>\n",
       "      <td>fr</td>\n",
       "    </tr>\n",
       "    <tr>\n",
       "      <th>10</th>\n",
       "      <td>La La Land</td>\n",
       "      <td>2016</td>\n",
       "      <td>This musical tells the story of a budding actr...</td>\n",
       "      <td>\"The Land is an absolutely beautiful film with...</td>\n",
       "      <td>fr</td>\n",
       "    </tr>\n",
       "    <tr>\n",
       "      <th>1</th>\n",
       "      <td>The Dark Knight</td>\n",
       "      <td>2008</td>\n",
       "      <td>Batman (Christian Bale) teams up with District...</td>\n",
       "      <td>\"The Dark Knight is a thrilling and intense su...</td>\n",
       "      <td>eng</td>\n",
       "    </tr>\n",
       "    <tr>\n",
       "      <th>27</th>\n",
       "      <td>El Bar</td>\n",
       "      <td>2017</td>\n",
       "      <td>A group of people are trapped in a bar after M...</td>\n",
       "      <td>\"The Bar is a ridiculous and meaningless film ...</td>\n",
       "      <td>sp</td>\n",
       "    </tr>\n",
       "    <tr>\n",
       "      <th>12</th>\n",
       "      <td>Amélie</td>\n",
       "      <td>2001</td>\n",
       "      <td>This romantic comedy tells the story of Amélie...</td>\n",
       "      <td>\"Amélie is an absolutely charming film that wi...</td>\n",
       "      <td>fr</td>\n",
       "    </tr>\n",
       "    <tr>\n",
       "      <th>18</th>\n",
       "      <td>Les Visiteurs en Amérique</td>\n",
       "      <td>2000</td>\n",
       "      <td>In this continuation of the French comedy The ...</td>\n",
       "      <td>\"The film is a total waste of time. The jokes ...</td>\n",
       "      <td>fr</td>\n",
       "    </tr>\n",
       "    <tr>\n",
       "      <th>14</th>\n",
       "      <td>Le Fabuleux Destin d'Amélie Poulain</td>\n",
       "      <td>2001</td>\n",
       "      <td>This romantic comedy tells the story of Amélie...</td>\n",
       "      <td>\"The Fabulous Destiny of Amélie Poulain is an ...</td>\n",
       "      <td>fr</td>\n",
       "    </tr>\n",
       "    <tr>\n",
       "      <th>24</th>\n",
       "      <td>Amores perros</td>\n",
       "      <td>2000</td>\n",
       "      <td>Three stories intertwine in this Mexican film:...</td>\n",
       "      <td>\"Amores dogs is an intense and moving film tha...</td>\n",
       "      <td>sp</td>\n",
       "    </tr>\n",
       "    <tr>\n",
       "      <th>29</th>\n",
       "      <td>El Incidente</td>\n",
       "      <td>2014</td>\n",
       "      <td>In this Mexican horror film, a group of people...</td>\n",
       "      <td>\"The Incident is a boring and frightless film ...</td>\n",
       "      <td>sp</td>\n",
       "    </tr>\n",
       "    <tr>\n",
       "      <th>20</th>\n",
       "      <td>Roma</td>\n",
       "      <td>2018</td>\n",
       "      <td>Cleo (Yalitza Aparicio) is a young domestic wo...</td>\n",
       "      <td>\"Rome is a beautiful and moving film that pays...</td>\n",
       "      <td>sp</td>\n",
       "    </tr>\n",
       "  </tbody>\n",
       "</table>\n",
       "</div>"
      ],
      "text/plain": [
       "                                  Title  Year  \\\n",
       "11                         Intouchables  2011   \n",
       "10                           La La Land  2016   \n",
       "1                      The Dark Knight   2008   \n",
       "27                               El Bar  2017   \n",
       "12                               Amélie  2001   \n",
       "18            Les Visiteurs en Amérique  2000   \n",
       "14  Le Fabuleux Destin d'Amélie Poulain  2001   \n",
       "24                        Amores perros  2000   \n",
       "29                         El Incidente  2014   \n",
       "20                                 Roma  2018   \n",
       "\n",
       "                                             Synopsis  \\\n",
       "11  This film tells the story of the unlikely frie...   \n",
       "10  This musical tells the story of a budding actr...   \n",
       "1   Batman (Christian Bale) teams up with District...   \n",
       "27  A group of people are trapped in a bar after M...   \n",
       "12  This romantic comedy tells the story of Amélie...   \n",
       "18  In this continuation of the French comedy The ...   \n",
       "14  This romantic comedy tells the story of Amélie...   \n",
       "24  Three stories intertwine in this Mexican film:...   \n",
       "29  In this Mexican horror film, a group of people...   \n",
       "20  Cleo (Yalitza Aparicio) is a young domestic wo...   \n",
       "\n",
       "                                               Review Original Language  \n",
       "11  \"Untouchables is an incredibly touching film w...                fr  \n",
       "10  \"The Land is an absolutely beautiful film with...                fr  \n",
       "1   \"The Dark Knight is a thrilling and intense su...               eng  \n",
       "27  \"The Bar is a ridiculous and meaningless film ...                sp  \n",
       "12  \"Amélie is an absolutely charming film that wi...                fr  \n",
       "18  \"The film is a total waste of time. The jokes ...                fr  \n",
       "14  \"The Fabulous Destiny of Amélie Poulain is an ...                fr  \n",
       "24  \"Amores dogs is an intense and moving film tha...                sp  \n",
       "29  \"The Incident is a boring and frightless film ...                sp  \n",
       "20  \"Rome is a beautiful and moving film that pays...                sp  "
      ]
     },
     "execution_count": 29,
     "metadata": {},
     "output_type": "execute_result"
    }
   ],
   "source": [
    "df.sample(10)"
   ]
  },
  {
   "cell_type": "markdown",
   "metadata": {},
   "source": [
    "### Sentiment Analysis\n",
    "\n",
    "Use HuggingFace pretrained model for sentiment analysis of the reviews. Store the sentiment result **Positive** or **Negative** in a new column titled **Sentiment** in the dataframe."
   ]
  },
  {
   "cell_type": "code",
   "execution_count": 30,
   "metadata": {},
   "outputs": [
    {
     "name": "stderr",
     "output_type": "stream",
     "text": [
      "No model was supplied, defaulted to distilbert-base-uncased-finetuned-sst-2-english and revision af0f99b (https://huggingface.co/distilbert-base-uncased-finetuned-sst-2-english).\n",
      "Using a pipeline without specifying a model name and revision in production is not recommended.\n"
     ]
    }
   ],
   "source": [
    "# load sentiment analysis model\n",
    "model_name = \"text-classification\"\n",
    "sentiment_classifier = pipeline(model_name)\n",
    "\n",
    "def analyze_sentiment(text, classifier):\n",
    "    \"\"\"\n",
    "    function to perform sentiment analysis on a text using a model\n",
    "    \"\"\"\n",
    "    return classifier(text)"
   ]
  },
  {
   "cell_type": "code",
   "execution_count": 31,
   "metadata": {},
   "outputs": [
    {
     "data": {
      "text/plain": [
       "[{'label': 'POSITIVE', 'score': 0.9998743534088135}]"
      ]
     },
     "execution_count": 31,
     "metadata": {},
     "output_type": "execute_result"
    }
   ],
   "source": [
    "# test\n",
    "analyze_sentiment(\"This restaurant is awesome\", sentiment_classifier)"
   ]
  },
  {
   "cell_type": "code",
   "execution_count": 40,
   "metadata": {},
   "outputs": [],
   "source": [
    "# perform sentiment analysis on reviews and store results in new column\n",
    "reviews_sentiment_analysis = analyze_sentiment(df['Review'].tolist(), sentiment_classifier)\n",
    "reviews_sentiment_analysis_df = pd.DataFrame(reviews_sentiment_analysis, columns=['label', 'score'])\n",
    "df['Sentiment'] = reviews_sentiment_analysis_df['label']"
   ]
  },
  {
   "cell_type": "code",
   "execution_count": 41,
   "metadata": {},
   "outputs": [
    {
     "data": {
      "text/html": [
       "<div>\n",
       "<style scoped>\n",
       "    .dataframe tbody tr th:only-of-type {\n",
       "        vertical-align: middle;\n",
       "    }\n",
       "\n",
       "    .dataframe tbody tr th {\n",
       "        vertical-align: top;\n",
       "    }\n",
       "\n",
       "    .dataframe thead th {\n",
       "        text-align: right;\n",
       "    }\n",
       "</style>\n",
       "<table border=\"1\" class=\"dataframe\">\n",
       "  <thead>\n",
       "    <tr style=\"text-align: right;\">\n",
       "      <th></th>\n",
       "      <th>Title</th>\n",
       "      <th>Year</th>\n",
       "      <th>Synopsis</th>\n",
       "      <th>Review</th>\n",
       "      <th>Original Language</th>\n",
       "      <th>Sentiment</th>\n",
       "    </tr>\n",
       "  </thead>\n",
       "  <tbody>\n",
       "    <tr>\n",
       "      <th>2</th>\n",
       "      <td>Forrest Gump</td>\n",
       "      <td>1994</td>\n",
       "      <td>Forrest Gump (Tom Hanks) is a simple man with ...</td>\n",
       "      <td>\"Forrest Gump is a heartwarming and inspiratio...</td>\n",
       "      <td>eng</td>\n",
       "      <td>POSITIVE</td>\n",
       "    </tr>\n",
       "    <tr>\n",
       "      <th>4</th>\n",
       "      <td>Inception</td>\n",
       "      <td>2010</td>\n",
       "      <td>Dom Cobb (Leonardo DiCaprio) is a skilled thie...</td>\n",
       "      <td>\"Inception is a mind-bending and visually stun...</td>\n",
       "      <td>eng</td>\n",
       "      <td>POSITIVE</td>\n",
       "    </tr>\n",
       "    <tr>\n",
       "      <th>1</th>\n",
       "      <td>The Dark Knight</td>\n",
       "      <td>2008</td>\n",
       "      <td>Batman (Christian Bale) teams up with District...</td>\n",
       "      <td>\"The Dark Knight is a thrilling and intense su...</td>\n",
       "      <td>eng</td>\n",
       "      <td>POSITIVE</td>\n",
       "    </tr>\n",
       "    <tr>\n",
       "      <th>27</th>\n",
       "      <td>El Bar</td>\n",
       "      <td>2017</td>\n",
       "      <td>A group of people are trapped in a bar after M...</td>\n",
       "      <td>\"The Bar is a ridiculous and meaningless film ...</td>\n",
       "      <td>sp</td>\n",
       "      <td>NEGATIVE</td>\n",
       "    </tr>\n",
       "    <tr>\n",
       "      <th>0</th>\n",
       "      <td>The Shawshank Redemption</td>\n",
       "      <td>1994</td>\n",
       "      <td>Andy Dufresne (Tim Robbins), a successful bank...</td>\n",
       "      <td>\"The Shawshank Redemption is an inspiring tale...</td>\n",
       "      <td>eng</td>\n",
       "      <td>POSITIVE</td>\n",
       "    </tr>\n",
       "    <tr>\n",
       "      <th>24</th>\n",
       "      <td>Amores perros</td>\n",
       "      <td>2000</td>\n",
       "      <td>Three stories intertwine in this Mexican film:...</td>\n",
       "      <td>\"Amores dogs is an intense and moving film tha...</td>\n",
       "      <td>sp</td>\n",
       "      <td>POSITIVE</td>\n",
       "    </tr>\n",
       "    <tr>\n",
       "      <th>9</th>\n",
       "      <td>The Island</td>\n",
       "      <td>2005</td>\n",
       "      <td>In a future where people are cloned for organ ...</td>\n",
       "      <td>\"The Island is a bland and forgettable sci-fi ...</td>\n",
       "      <td>eng</td>\n",
       "      <td>NEGATIVE</td>\n",
       "    </tr>\n",
       "    <tr>\n",
       "      <th>6</th>\n",
       "      <td>Scott Pilgrim vs. the World</td>\n",
       "      <td>2010</td>\n",
       "      <td>Scott Pilgrim (Michael Cera) must defeat his n...</td>\n",
       "      <td>\"It was difficult to sit through the whole thi...</td>\n",
       "      <td>eng</td>\n",
       "      <td>NEGATIVE</td>\n",
       "    </tr>\n",
       "    <tr>\n",
       "      <th>28</th>\n",
       "      <td>Torrente: El brazo tonto de la ley</td>\n",
       "      <td>1998</td>\n",
       "      <td>In this Spanish comedy, a corrupt cop (played ...</td>\n",
       "      <td>\"Torrente is a vulgar and offensive film that ...</td>\n",
       "      <td>sp</td>\n",
       "      <td>NEGATIVE</td>\n",
       "    </tr>\n",
       "    <tr>\n",
       "      <th>12</th>\n",
       "      <td>Amélie</td>\n",
       "      <td>2001</td>\n",
       "      <td>This romantic comedy tells the story of Amélie...</td>\n",
       "      <td>\"Amélie is an absolutely charming film that wi...</td>\n",
       "      <td>fr</td>\n",
       "      <td>POSITIVE</td>\n",
       "    </tr>\n",
       "  </tbody>\n",
       "</table>\n",
       "</div>"
      ],
      "text/plain": [
       "                                 Title  Year  \\\n",
       "2                         Forrest Gump  1994   \n",
       "4                            Inception  2010   \n",
       "1                     The Dark Knight   2008   \n",
       "27                              El Bar  2017   \n",
       "0            The Shawshank Redemption   1994   \n",
       "24                       Amores perros  2000   \n",
       "9                           The Island  2005   \n",
       "6          Scott Pilgrim vs. the World  2010   \n",
       "28  Torrente: El brazo tonto de la ley  1998   \n",
       "12                              Amélie  2001   \n",
       "\n",
       "                                             Synopsis  \\\n",
       "2   Forrest Gump (Tom Hanks) is a simple man with ...   \n",
       "4   Dom Cobb (Leonardo DiCaprio) is a skilled thie...   \n",
       "1   Batman (Christian Bale) teams up with District...   \n",
       "27  A group of people are trapped in a bar after M...   \n",
       "0   Andy Dufresne (Tim Robbins), a successful bank...   \n",
       "24  Three stories intertwine in this Mexican film:...   \n",
       "9   In a future where people are cloned for organ ...   \n",
       "6   Scott Pilgrim (Michael Cera) must defeat his n...   \n",
       "28  In this Spanish comedy, a corrupt cop (played ...   \n",
       "12  This romantic comedy tells the story of Amélie...   \n",
       "\n",
       "                                               Review Original Language  \\\n",
       "2   \"Forrest Gump is a heartwarming and inspiratio...               eng   \n",
       "4   \"Inception is a mind-bending and visually stun...               eng   \n",
       "1   \"The Dark Knight is a thrilling and intense su...               eng   \n",
       "27  \"The Bar is a ridiculous and meaningless film ...                sp   \n",
       "0   \"The Shawshank Redemption is an inspiring tale...               eng   \n",
       "24  \"Amores dogs is an intense and moving film tha...                sp   \n",
       "9   \"The Island is a bland and forgettable sci-fi ...               eng   \n",
       "6   \"It was difficult to sit through the whole thi...               eng   \n",
       "28  \"Torrente is a vulgar and offensive film that ...                sp   \n",
       "12  \"Amélie is an absolutely charming film that wi...                fr   \n",
       "\n",
       "   Sentiment  \n",
       "2   POSITIVE  \n",
       "4   POSITIVE  \n",
       "1   POSITIVE  \n",
       "27  NEGATIVE  \n",
       "0   POSITIVE  \n",
       "24  POSITIVE  \n",
       "9   NEGATIVE  \n",
       "6   NEGATIVE  \n",
       "28  NEGATIVE  \n",
       "12  POSITIVE  "
      ]
     },
     "execution_count": 41,
     "metadata": {},
     "output_type": "execute_result"
    }
   ],
   "source": [
    "df.sample(10)"
   ]
  },
  {
   "cell_type": "code",
   "execution_count": 43,
   "metadata": {},
   "outputs": [],
   "source": [
    "import os\n",
    "\n",
    "outdir = './result'\n",
    "if not os.path.exists(outdir):\n",
    "    os.mkdir(outdir)"
   ]
  },
  {
   "cell_type": "code",
   "execution_count": 44,
   "metadata": {},
   "outputs": [],
   "source": [
    "# export the results to a .csv file\n",
    "df.to_csv(\"result/reviews_with_sentiment.csv\", index=False)"
   ]
  },
  {
   "cell_type": "code",
   "execution_count": null,
   "metadata": {},
   "outputs": [],
   "source": []
  }
 ],
 "metadata": {
  "kernelspec": {
   "display_name": "Python 3 (ipykernel)",
   "language": "python",
   "name": "python3"
  },
  "language_info": {
   "codemirror_mode": {
    "name": "ipython",
    "version": 3
   },
   "file_extension": ".py",
   "mimetype": "text/x-python",
   "name": "python",
   "nbconvert_exporter": "python",
   "pygments_lexer": "ipython3",
   "version": "3.10.12"
  }
 },
 "nbformat": 4,
 "nbformat_minor": 1
}
